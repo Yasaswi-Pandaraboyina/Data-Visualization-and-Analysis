{
 "cells": [
  {
   "cell_type": "code",
   "execution_count": null,
   "id": "8d690c9a-d88c-4b62-9ed3-6e5b6c55f03b",
   "metadata": {},
   "outputs": [],
   "source": [
    "import pandas as pd\n",
    "from datetime import datetime\n",
    "file_path = 'crime_dataset_india.csv'\n",
    "df = pd.read_csv(file_path)\n",
    "df['Report Number'] = df['Report Number'].fillna('Unknown')\n",
    "date_columns = ['Date Reported', 'Date of Occurrence', 'Time of Occurrence', 'Date Case Closed']\n",
    "for col in date_columns:\n",
    "    if col in df.columns:\n",
    "        df[col] = pd.to_datetime(df[col], format='%d-%m-%Y %H:%M', errors='coerce')\n",
    "df['Date of Occurrence'] = df['Date of Occurrence'].fillna(pd.Timestamp('1900-01-01'))\n",
    "df['Day of Week'] = df['Date of Occurrence'].dt.day_name()\n",
    "df['Hour of Occurrence'] = df['Time of Occurrence'].dt.hour\n",
    "if 'Date Reported' in df.columns and 'Date Case Closed' in df.columns:\n",
    "    df['Case Duration'] = (df['Date Case Closed'] - df['Date Reported']).dt.days\n",
    "df['Victim Gender'] = df['Victim Gender'].replace({'M': 'Male', 'F': 'Female', 'X': 'Other'})\n",
    "numeric_columns = ['Victim Age', 'Police Deployed']\n",
    "for col in numeric_columns:\n",
    "    if col in df.columns:\n",
    "        df[col] = pd.to_numeric(df[col], errors='coerce')\n",
    "df['Case Closed Status'] = df['Case Closed'].map({'Yes': 1, 'No': 0})\n",
    "\n",
    "def categorize_crime(crime):\n",
    "    if pd.isnull(crime):\n",
    "        return 'Other Crime'\n",
    "    crime = crime.upper()\n",
    "    if crime in ['ROBBERY']:\n",
    "        return 'Robbery'\n",
    "    elif crime in ['VANDALISM', 'SHOPLIFTING']:\n",
    "        return 'Vandalism'\n",
    "    elif crime in ['BURGLARY', 'VEHICLE - STOLEN']:\n",
    "        return 'Property Crime'\n",
    "    elif crime in ['HOMICIDE', 'ASSAULT', 'SEXUAL ASSAULT', 'DOMESTIC VIOLENCE', 'KIDNAPPING']:\n",
    "        return 'Violent Crime'\n",
    "    elif crime in ['DRUG OFFENSE']:\n",
    "        return 'Drug Crime'\n",
    "    elif crime in ['FRAUD', 'COUNTERFEITING', 'IDENTITY THEFT']:\n",
    "        return 'Financial Crime'\n",
    "    elif crime in ['ARSON']:\n",
    "        return 'Arson'\n",
    "    elif crime in ['TRAFFIC VIOLATION']:\n",
    "        return 'Traffic Violation'\n",
    "    elif crime in ['CYBERCRIME']:\n",
    "        return 'Cybercrime'\n",
    "    elif crime in ['EXTORTION', 'PUBLIC INTOXICATION', 'ILLEGAL POSSESSION', 'FIREARM OFFENSE']:\n",
    "        return 'Other Crime'\n",
    "    else:\n",
    "        return 'Other Crime'\n",
    "\n",
    "df['Crime Category'] = df['Crime Description'].apply(categorize_crime)\n",
    "df.fillna({'Victim Age': 0, 'Police Deployed': 0, 'Day of Week': 'Unknown'}, inplace=True)\n",
    "output_file = 'preprocessed_crime_dataset_india.csv'\n",
    "df.to_csv(output_file, index=False)\n",
    "\n",
    "print(f\"Preprocessing complete {output_file}\")\n"
   ]
  }
 ],
 "metadata": {
  "kernelspec": {
   "display_name": "Python 3 (ipykernel)",
   "language": "python",
   "name": "python3"
  },
  "language_info": {
   "codemirror_mode": {
    "name": "ipython",
    "version": 3
   },
   "file_extension": ".py",
   "mimetype": "text/x-python",
   "name": "python",
   "nbconvert_exporter": "python",
   "pygments_lexer": "ipython3",
   "version": "3.12.4"
  }
 },
 "nbformat": 4,
 "nbformat_minor": 5
}
